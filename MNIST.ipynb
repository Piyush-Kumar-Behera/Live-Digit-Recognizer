{
 "cells": [
  {
   "cell_type": "code",
   "execution_count": 32,
   "metadata": {},
   "outputs": [],
   "source": [
    "import tensorflow as tf\n",
    "import numpy as np\n",
    "import matplotlib.pyplot as plt\n",
    "from keras import layers\n",
    "from keras.layers import Input, Add, Dense, Activation, BatchNormalization, Flatten, Conv2D, AveragePooling2D, MaxPooling2D\n",
    "from keras.models import Model, load_model\n",
    "from keras.preprocessing import image\n",
    "from keras.initializers import glorot_uniform\n",
    "from keras import metrics\n",
    "from keras.models import model_from_json"
   ]
  },
  {
   "cell_type": "code",
   "execution_count": 33,
   "metadata": {},
   "outputs": [],
   "source": [
    "from tensorflow.examples.tutorials.mnist import input_data"
   ]
  },
  {
   "cell_type": "code",
   "execution_count": 34,
   "metadata": {},
   "outputs": [
    {
     "name": "stdout",
     "output_type": "stream",
     "text": [
      "Extracting MNIST/train-images-idx3-ubyte.gz\n",
      "Extracting MNIST/train-labels-idx1-ubyte.gz\n",
      "Extracting MNIST/t10k-images-idx3-ubyte.gz\n",
      "Extracting MNIST/t10k-labels-idx1-ubyte.gz\n"
     ]
    }
   ],
   "source": [
    "mnist = input_data.read_data_sets(\"MNIST/\",one_hot=True)"
   ]
  },
  {
   "cell_type": "code",
   "execution_count": 40,
   "metadata": {},
   "outputs": [
    {
     "data": {
      "text/plain": [
       "<matplotlib.image.AxesImage at 0x7fad68133ba8>"
      ]
     },
     "execution_count": 40,
     "metadata": {},
     "output_type": "execute_result"
    },
    {
     "data": {
      "image/png": "[encoded data removed]",
      "text/plain": [
       "<Figure size 432x288 with 1 Axes>"
      ]
     },
     "metadata": {
      "needs_background": "light"
     },
     "output_type": "display_data"
    }
   ],
   "source": [
    "plt.imshow(mnist.train.images[3].reshape(28,28),cmap = 'gist_gray')"
   ]
  },
  {
   "cell_type": "code",
   "execution_count": 41,
   "metadata": {},
   "outputs": [
    {
     "data": {
      "text/plain": [
       "array([0., 0., 0., 0., 0., 0., 1., 0., 0., 0.])"
      ]
     },
     "execution_count": 41,
     "metadata": {},
     "output_type": "execute_result"
    }
   ],
   "source": [
    "mnist.train.labels[3]"
   ]
  },
  {
   "cell_type": "code",
   "execution_count": 42,
   "metadata": {},
   "outputs": [],
   "source": [
    "def model(input_shape = (28,28,1), classes = 10):\n",
    "    X_input = Input(input_shape)\n",
    "    \n",
    "    X = Conv2D(filters=6, kernel_size= (5,5), strides=1, padding='same',name = 'CONV-Layer-1', kernel_initializer=glorot_uniform(seed = 0))(X_input)\n",
    "    X = BatchNormalization(axis = 3, name = 'BatchN-Layer-1')(X)\n",
    "    X = Activation('relu')(X)\n",
    "    \n",
    "    X = MaxPooling2D(pool_size=(2,2), strides=2, padding='valid', name = 'Padding-Layer-1')(X)\n",
    "    \n",
    "    X = Conv2D(16, kernel_size=(5,5), strides=1, padding = 'valid', name = 'CONV-Layer-2', kernel_initializer=glorot_uniform(seed = 0))(X)\n",
    "    X = BatchNormalization(axis = 3)(X)\n",
    "    X = Activation('relu')(X)\n",
    "    \n",
    "    X = MaxPooling2D(pool_size=(2,2), strides=2, padding='valid')(X)\n",
    "    \n",
    "    X = Flatten()(X)\n",
    "    X = Dense(120, activation='relu',kernel_initializer=glorot_uniform(seed = 0))(X)\n",
    "    X = Dense(84, activation='relu',kernel_initializer=glorot_uniform(seed = 0))(X)\n",
    "    X = Dense(classes, activation = 'softmax', kernel_initializer=glorot_uniform(seed = 0))(X)\n",
    "   \n",
    "    model = Model(inputs = X_input, outputs = X, name = \"LeNet - Partial\")\n",
    "    \n",
    "    return model"
   ]
  },
  {
   "cell_type": "code",
   "execution_count": 43,
   "metadata": {},
   "outputs": [],
   "source": [
    "model = model()"
   ]
  },
  {
   "cell_type": "code",
   "execution_count": 44,
   "metadata": {},
   "outputs": [],
   "source": [
    "model.compile(optimizer='adam', loss = 'categorical_crossentropy', metrics = ['accuracy'])"
   ]
  },
  {
   "cell_type": "code",
   "execution_count": 45,
   "metadata": {},
   "outputs": [],
   "source": [
    "X_train_1 = mnist.train.images.reshape(-1,28,28,1)\n",
    "X_test = mnist.test.images.reshape(-1,28,28,1)\n",
    "Y_train_1 = mnist.train.labels\n",
    "Y_test = mnist.test.labels"
   ]
  },
  {
   "cell_type": "code",
   "execution_count": 46,
   "metadata": {},
   "outputs": [],
   "source": [
    "X_new = 1-X_train_1"
   ]
  },
  {
   "cell_type": "code",
   "execution_count": 47,
   "metadata": {},
   "outputs": [
    {
     "data": {
      "text/plain": [
       "(110000, 28, 28, 1)"
      ]
     },
     "execution_count": 47,
     "metadata": {},
     "output_type": "execute_result"
    }
   ],
   "source": [
    "X_train = np.append(X_train_1,X_new,axis=0)\n",
    "Y_train = np.append(Y_train_1,Y_train_1,axis=0)\n",
    "X_train.shape"
   ]
  },
  {
   "cell_type": "code",
   "execution_count": 48,
   "metadata": {},
   "outputs": [
    {
     "name": "stdout",
     "output_type": "stream",
     "text": [
      "WARNING:tensorflow:From /home/piyush/.local/lib/python3.6/site-packages/keras/backend/tensorflow_backend.py:422: The name tf.global_variables is deprecated. Please use tf.compat.v1.global_variables instead.\n",
      "\n",
      "Epoch 1/15\n",
      "110000/110000 [==============================] - 66s 602us/step - loss: 0.1399 - accuracy: 0.9561\n",
      "Epoch 2/15\n",
      "110000/110000 [==============================] - 67s 613us/step - loss: 0.0548 - accuracy: 0.9825\n",
      "Epoch 3/15\n",
      "110000/110000 [==============================] - 67s 610us/step - loss: 0.0406 - accuracy: 0.9869\n",
      "Epoch 4/15\n",
      "110000/110000 [==============================] - 67s 611us/step - loss: 0.0325 - accuracy: 0.9894\n",
      "Epoch 5/15\n",
      "110000/110000 [==============================] - 67s 612us/step - loss: 0.0263 - accuracy: 0.9916\n",
      "Epoch 6/15\n",
      "110000/110000 [==============================] - 68s 616us/step - loss: 0.0222 - accuracy: 0.9924\n",
      "Epoch 7/15\n",
      "110000/110000 [==============================] - 72s 651us/step - loss: 0.0195 - accuracy: 0.9938\n",
      "Epoch 8/15\n",
      "110000/110000 [==============================] - 67s 613us/step - loss: 0.0166 - accuracy: 0.9942\n",
      "Epoch 9/15\n",
      "110000/110000 [==============================] - 68s 616us/step - loss: 0.0144 - accuracy: 0.9954\n",
      "Epoch 10/15\n",
      "110000/110000 [==============================] - 68s 619us/step - loss: 0.0132 - accuracy: 0.9958\n",
      "Epoch 11/15\n",
      "110000/110000 [==============================] - 69s 626us/step - loss: 0.0125 - accuracy: 0.9958\n",
      "Epoch 12/15\n",
      "110000/110000 [==============================] - 68s 621us/step - loss: 0.0118 - accuracy: 0.9962\n",
      "Epoch 13/15\n",
      "110000/110000 [==============================] - 69s 628us/step - loss: 0.0096 - accuracy: 0.9971\n",
      "Epoch 14/15\n",
      "110000/110000 [==============================] - 69s 624us/step - loss: 0.0098 - accuracy: 0.9968\n",
      "Epoch 15/15\n",
      "110000/110000 [==============================] - 69s 630us/step - loss: 0.0082 - accuracy: 0.9974\n"
     ]
    },
    {
     "data": {
      "text/plain": [
       "<keras.callbacks.callbacks.History at 0x7fad68230780>"
      ]
     },
     "execution_count": 48,
     "metadata": {},
     "output_type": "execute_result"
    }
   ],
   "source": [
    "model.fit(X_train, Y_train, epochs = 15, batch_size = 32)"
   ]
  },
  {
   "cell_type": "code",
   "execution_count": 49,
   "metadata": {},
   "outputs": [],
   "source": [
    "Y_pred = model.predict(X_test)\n",
    "Y_pred = (np.max(Y_pred) == Y_pred)*1"
   ]
  },
  {
   "cell_type": "code",
   "execution_count": 50,
   "metadata": {},
   "outputs": [
    {
     "name": "stdout",
     "output_type": "stream",
     "text": [
      "[0 0 1 0 0 0 0 0 0 0]\n"
     ]
    },
    {
     "data": {
      "image/png": "[encoded data removed]",
      "text/plain": [
       "<Figure size 432x288 with 1 Axes>"
      ]
     },
     "metadata": {
      "needs_background": "light"
     },
     "output_type": "display_data"
    }
   ],
   "source": [
    "plt.imshow(X_test[1].reshape(28,28),cmap = 'gist_gray')\n",
    "print(Y_pred[1])"
   ]
  },
  {
   "cell_type": "code",
   "execution_count": 51,
   "metadata": {},
   "outputs": [
    {
     "name": "stdout",
     "output_type": "stream",
     "text": [
      "10000/10000 [==============================] - 2s 191us/step\n"
     ]
    },
    {
     "data": {
      "text/plain": [
       "[0.03892653084457423, 0.9909999966621399]"
      ]
     },
     "execution_count": 51,
     "metadata": {},
     "output_type": "execute_result"
    }
   ],
   "source": [
    "model.evaluate(X_test,Y_test)"
   ]
  },
  {
   "cell_type": "code",
   "execution_count": 53,
   "metadata": {},
   "outputs": [],
   "source": [
    "model_json = model.to_json()\n",
    "with open('model.json',\"w\") as json_file:\n",
    "    json_file.write(model_json)\n",
    "\n",
    "model.save_weights('model.h5')"
   ]
  }
 ],
 "metadata": {
  "kernelspec": {
   "display_name": "Python 3",
   "language": "python",
   "name": "python3"
  },
  "language_info": {
   "codemirror_mode": {
    "name": "ipython",
    "version": 3
   },
   "file_extension": ".py",
   "mimetype": "text/x-python",
   "name": "python",
   "nbconvert_exporter": "python",
   "pygments_lexer": "ipython3",
   "version": "3.6.9"
  }
 },
 "nbformat": 4,
 "nbformat_minor": 2
}
